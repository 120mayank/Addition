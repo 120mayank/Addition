{
  "nbformat": 4,
  "nbformat_minor": 0,
  "metadata": {
    "colab": {
      "name": "Numpy ",
      "provenance": [],
      "authorship_tag": "ABX9TyPx9Ou7uYQxFog6VOy36eXC",
      "include_colab_link": true
    },
    "kernelspec": {
      "name": "python3",
      "display_name": "Python 3"
    }
  },
  "cells": [
    {
      "cell_type": "markdown",
      "metadata": {
        "id": "view-in-github",
        "colab_type": "text"
      },
      "source": [
        "<a href=\"https://colab.research.google.com/github/120mayank/Addition/blob/master/Numpy.ipynb\" target=\"_parent\"><img src=\"https://colab.research.google.com/assets/colab-badge.svg\" alt=\"Open In Colab\"/></a>"
      ]
    },
    {
      "cell_type": "code",
      "metadata": {
        "id": "O_ueCKRclRpC",
        "colab_type": "code",
        "colab": {
          "base_uri": "https://localhost:8080/",
          "height": 170
        },
        "outputId": "c75cc287-d58a-490e-9218-2a2ac2e99ab5"
      },
      "source": [
        "#MAYANK KUMAR\n",
        "#18SCSE1050014\n",
        "#Machine Learning\n",
        "#CLOUD-1\n",
        "\n",
        "\n",
        "#1 Unary Operators\n",
        "\n",
        "import numpy as np\n",
        "arr = np.array([[[0, 1, 2, 3],\n",
        "                           [4, 5, 6, 7]],\n",
        "\n",
        "                          [[0, 1, 2, 3],\n",
        "                          [4, 5, 6, 7]],\n",
        "\n",
        "                         [[0 ,1 ,2, 3],\n",
        "                           [4, 5, 6, 7]]])\n",
        "print(\"largest elements:\",arr.max())\n",
        "print(\"row wise maximum :\",arr.max(axis=1))\n",
        "print(\"Column wise minimum elements:\",arr.min(axis=0))\n",
        "print(\"Sum of all array elements:\",arr.sum()) \n",
        "print(\"Commutative sum along each row:\\n\",arr.sum())"
      ],
      "execution_count": null,
      "outputs": [
        {
          "output_type": "stream",
          "text": [
            "largest elements: 7\n",
            "row wise maximum : [[4 5 6 7]\n",
            " [4 5 6 7]\n",
            " [4 5 6 7]]\n",
            "Column wise minimum elements: [[0 1 2 3]\n",
            " [4 5 6 7]]\n",
            "Sum of all array elements: 84\n",
            "Commutative summ along each row:\n",
            " 84\n"
          ],
          "name": "stdout"
        }
      ]
    },
    {
      "cell_type": "code",
      "metadata": {
        "id": "qcoSvL6GpwZN",
        "colab_type": "code",
        "colab": {
          "base_uri": "https://localhost:8080/",
          "height": 34
        },
        "outputId": "0627c2d1-fd73-4589-fa9c-257f5e6676c3"
      },
      "source": [
        "#2 Numpy Implementation and creation 1-D array\n",
        "\n",
        "import numpy as np\n",
        "a=np.array([2,4,7])\n",
        "print(a)"
      ],
      "execution_count": 4,
      "outputs": [
        {
          "output_type": "stream",
          "text": [
            "[2 4 7]\n"
          ],
          "name": "stdout"
        }
      ]
    },
    {
      "cell_type": "code",
      "metadata": {
        "id": "tYWWm5HjrkuD",
        "colab_type": "code",
        "colab": {
          "base_uri": "https://localhost:8080/",
          "height": 952
        },
        "outputId": "d0a1ddf4-508b-4fe4-e962-915fb2fea7a6"
      },
      "source": [
        "#3 Creation of array in numpy with various techniques\n",
        "\n",
        "a=np.array([[3,5,7],[6,3,8]],dtype='float')\n",
        "print(\"Array created using passed list:\\n \",a)\n",
        "print(\"-----------------------------------------------------\")\n",
        "\n",
        "b=np.array((3,7,4))\n",
        "print(\"\\nArray created using passed touple:\\n\",b)\n",
        "print(\"-----------------------------------------------------\")\n",
        "\n",
        "c=np.zeros((5,6))\n",
        "print(\"\\nAn array initialized with all zeros:\\n\",c)\n",
        "print(\"-----------------------------------------------------\")\n",
        "\n",
        "d=np.full((3,3),9,dtype='complex')\n",
        "print(\"\\nAn array initilized with all 6s.Array type is complex:\\n\",d)\n",
        "print(\"------------------------------------------------------\")\n",
        "\n",
        "e=np.random.random((3,3))\n",
        "print(\"\\nA random array:\\n\",e)\n",
        "print(\"------------------------------------------------------\")\n",
        "\n",
        "f=np.arange(0,30,8)\n",
        "print(\"\\nA sequential array with steps of 7:\\n\",f)\n",
        "print(\"---------------------------------------------------------\")\n",
        "\n",
        "g=np.linspace(0,6,11)\n",
        "print(\"\\nASequential array with 10 value between 0 and 6:\\n\",g)\n",
        "print(\"------------------------------------------------------\")\n",
        "\n",
        "arr=np.array([[1,2,3,4],[5,6,7,8],[4,6,8,3]])\n",
        "newarr=arr.reshape(2,2,3)\n",
        "print(\"\\nOrignal array:\\n\",arr)\n",
        "print(\"Reshaped array:\\n\",newarr)\n",
        "print(\"--------------------------------------------------------\")\n",
        "\n",
        "arr=np.array([[1,2,3],[4,5,6]])\n",
        "fl_array=arr.flatten()\n",
        "print(\"\\n Original array:\\n\",arr)\n",
        "print(\"\\n Fattened array:\\n,\",fl_array)\n"
      ],
      "execution_count": 28,
      "outputs": [
        {
          "output_type": "stream",
          "text": [
            "Array created using passed list:\n",
            "  [[3. 5. 7.]\n",
            " [6. 3. 8.]]\n",
            "-----------------------------------------------------\n",
            "\n",
            "Array created using passed touple:\n",
            " [3 7 4]\n",
            "-----------------------------------------------------\n",
            "\n",
            "An array initialized with all zeros:\n",
            " [[0. 0. 0. 0. 0. 0.]\n",
            " [0. 0. 0. 0. 0. 0.]\n",
            " [0. 0. 0. 0. 0. 0.]\n",
            " [0. 0. 0. 0. 0. 0.]\n",
            " [0. 0. 0. 0. 0. 0.]]\n",
            "-----------------------------------------------------\n",
            "\n",
            "An array initilized with all 6s.Array type is complex:\n",
            " [[9.+0.j 9.+0.j 9.+0.j]\n",
            " [9.+0.j 9.+0.j 9.+0.j]\n",
            " [9.+0.j 9.+0.j 9.+0.j]]\n",
            "------------------------------------------------------\n",
            "\n",
            "A random array:\n",
            " [[0.56609074 0.84980092 0.25813266]\n",
            " [0.03992089 0.47226052 0.31507122]\n",
            " [0.9954284  0.88736833 0.67482491]]\n",
            "------------------------------------------------------\n",
            "\n",
            "A sequential array with steps of 7:\n",
            " [ 0  8 16 24]\n",
            "---------------------------------------------------------\n",
            "\n",
            "ASequential array with 10 value between 0 and 6:\n",
            " [0.  0.6 1.2 1.8 2.4 3.  3.6 4.2 4.8 5.4 6. ]\n",
            "------------------------------------------------------\n",
            "\n",
            "Orignal array:\n",
            " [[1 2 3 4]\n",
            " [5 6 7 8]\n",
            " [4 6 8 3]]\n",
            "Reshaped array:\n",
            " [[[1 2 3]\n",
            "  [4 5 6]]\n",
            "\n",
            " [[7 8 4]\n",
            "  [6 8 3]]]\n",
            "--------------------------------------------------------\n",
            "\n",
            " Original array:\n",
            " [[1 2 3]\n",
            " [4 5 6]]\n",
            "\n",
            " Fattened array:\n",
            ", [1 2 3 4 5 6]\n"
          ],
          "name": "stdout"
        }
      ]
    },
    {
      "cell_type": "code",
      "metadata": {
        "id": "f-7eLEYjroMg",
        "colab_type": "code",
        "colab": {
          "base_uri": "https://localhost:8080/",
          "height": 136
        },
        "outputId": "73237c60-c434-47b6-e543-f549cd7255bc"
      },
      "source": [
        "#4 Get the number of dimensions,shape,and size of n-D array\n",
        "\n",
        "import numpy as np\n",
        "arr=np.array([[5,8,6],[7,3,9]])\n",
        "print(arr)\n",
        "print(\"Array is of type:\",type(arr))\n",
        "print(\"No of dimensions:\",arr.ndim)\n",
        "print(\"Shape of array:\",arr.shape)\n",
        "print(\"Size of array:\",arr.size)\n",
        "print(\"Array stores elements of type:\",arr.dtype)\n"
      ],
      "execution_count": 8,
      "outputs": [
        {
          "output_type": "stream",
          "text": [
            "[[5 8 6]\n",
            " [7 3 9]]\n",
            "Array is of type: <class 'numpy.ndarray'>\n",
            "No of dimensions: 2\n",
            "Shape of array: (2, 3)\n",
            "Size of array: 6\n",
            "Array stores elements of type: int64\n"
          ],
          "name": "stdout"
        }
      ]
    },
    {
      "cell_type": "code",
      "metadata": {
        "id": "iOYwWVxVr74j",
        "colab_type": "code",
        "colab": {
          "base_uri": "https://localhost:8080/",
          "height": 170
        },
        "outputId": "7ed78544-7ffc-4a8d-a774-a0cdcb16990b"
      },
      "source": [
        "#5 Binary Operators\n",
        "\n",
        "import numpy as np\n",
        "a=np.array([[7,5],\n",
        "              [9,3]\n",
        "              \n",
        "])\n",
        "b=np.array([[7,4],\n",
        "            [3,5]])\n",
        "print(\"Array Addition:\\n\",a + b)\n",
        "print(\"Array Multiplication:\\n\",a * b)\n",
        "print(\"matrix multiplication:\\n\",a.dot(b))\n"
      ],
      "execution_count": 1,
      "outputs": [
        {
          "output_type": "stream",
          "text": [
            "Array Addition:\n",
            " [[14  9]\n",
            " [12  8]]\n",
            "Array Multiplication:\n",
            " [[49 20]\n",
            " [27 15]]\n",
            "matrix multiplication:\n",
            " [[64 53]\n",
            " [72 51]]\n"
          ],
          "name": "stdout"
        }
      ]
    },
    {
      "cell_type": "code",
      "metadata": {
        "id": "tBie-J0EwMXb",
        "colab_type": "code",
        "colab": {
          "base_uri": "https://localhost:8080/",
          "height": 170
        },
        "outputId": "4e331e71-566d-47f6-8714-8952bcb8cdfa"
      },
      "source": [
        "#6 Checking array indexing with Slicing,Integer array indexing,Boolen array indexing\n",
        "\n",
        "import numpy as np\n",
        "arr=np.array([[-1,2,0,4],\n",
        "              [4,-0.5,6,0],\n",
        "              [2.6,0,7,8],\n",
        "              [3,-7,4,2.0]])\n",
        "# Slicing array\n",
        "temp=arr[:2,::2]\n",
        "print(\"Array with first 2 rows  and alternate columns(0 and 3):\\n\",temp)\n",
        "\n",
        "#Integer array indexing example\n",
        "temp=arr[[0,1,2,3],[3,2,1,0]]\n",
        "print(\"\\n Elements at indices(0,3,(1,2),(2,1),(3,0):\\n\",temp)\n",
        "\n",
        "#Boolen array indexing example\n",
        "cond = arr>0 #cond is a boolean array\n",
        "temp=arr[cond]\n",
        "print(\"\\nElements greater than 0:\\n\",temp) \n",
        "\n",
        "\n",
        "\n",
        "\n"
      ],
      "execution_count": 33,
      "outputs": [
        {
          "output_type": "stream",
          "text": [
            "Array with first 2 rows  and alternate columns(0 and 3):\n",
            " [[-1.  0.]\n",
            " [ 4.  6.]]\n",
            "\n",
            " Elements at indices(0,3,(1,2),(2,1),(3,0):\n",
            " [4. 6. 0. 3.]\n",
            "\n",
            "Elements greater than 0:\n",
            " [2.  4.  4.  6.  2.6 7.  8.  3.  4.  2. ]\n"
          ],
          "name": "stdout"
        }
      ]
    }
  ]
}